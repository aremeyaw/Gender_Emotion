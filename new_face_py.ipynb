{
  "nbformat": 4,
  "nbformat_minor": 0,
  "metadata": {
    "colab": {
      "provenance": [],
      "name": "new-face.py",
      "mount_file_id": "https://gist.github.com/aremeyaw/62a7562cde9ad44c15707b4a51302172#file-new-face-ipynb",
      "authorship_tag": "ABX9TyPQjX2ITivlnR7hIb6Xy1UZ",
      "include_colab_link": true
    },
    "kernelspec": {
      "name": "python3",
      "display_name": "Python 3"
    },
    "language_info": {
      "name": "python"
    }
  },
  "cells": [
    {
      "cell_type": "markdown",
      "metadata": {
        "id": "view-in-github",
        "colab_type": "text"
      },
      "source": [
        "<a href=\"https://colab.research.google.com/github/aremeyaw/Gender_Emotion/blob/main/new_face_py.ipynb\" target=\"_parent\"><img src=\"https://colab.research.google.com/assets/colab-badge.svg\" alt=\"Open In Colab\"/></a>"
      ]
    },
    {
      "cell_type": "code",
      "execution_count": 8,
      "metadata": {
        "colab": {
          "base_uri": "https://localhost:8080/"
        },
        "id": "eVJP5IctpWJO",
        "outputId": "78c531cf-083c-4397-d443-d836b191abfb"
      },
      "outputs": [
        {
          "output_type": "stream",
          "name": "stderr",
          "text": [
            "2025-03-22 13:42:33.827 Thread 'MainThread': missing ScriptRunContext! This warning can be ignored when running in bare mode.\n",
            "2025-03-22 13:42:33.829 Thread 'MainThread': missing ScriptRunContext! This warning can be ignored when running in bare mode.\n",
            "2025-03-22 13:42:33.831 Thread 'MainThread': missing ScriptRunContext! This warning can be ignored when running in bare mode.\n",
            "2025-03-22 13:42:33.832 Thread 'MainThread': missing ScriptRunContext! This warning can be ignored when running in bare mode.\n",
            "2025-03-22 13:42:33.832 Thread 'MainThread': missing ScriptRunContext! This warning can be ignored when running in bare mode.\n",
            "2025-03-22 13:42:33.833 Thread 'MainThread': missing ScriptRunContext! This warning can be ignored when running in bare mode.\n",
            "2025-03-22 13:42:33.834 Thread 'MainThread': missing ScriptRunContext! This warning can be ignored when running in bare mode.\n"
          ]
        }
      ],
      "source": [
        "import streamlit as st\n",
        "from deepface import DeepFace\n",
        "import cv2\n",
        "import numpy as np\n",
        "import tempfile\n",
        "import os\n",
        "\n",
        "# Suppress Streamlit warnings (optional)\n",
        "import logging\n",
        "logging.getLogger(\"streamlit\").setLevel(logging.ERROR)\n",
        "\n",
        "# Set the title of the app\n",
        "st.title(\"Gender, Facial, and Emotional Expression Recognition\")\n",
        "\n",
        "# Upload image through Streamlit\n",
        "uploaded_file = st.file_uploader(\"Upload an image\", type=[\"jpg\", \"png\", \"jpeg\"])\n",
        "\n",
        "if uploaded_file is not None:\n",
        "    # Read the image file as bytes\n",
        "    file_bytes = np.asarray(bytearray(uploaded_file.read()), dtype=np.uint8)\n",
        "\n",
        "    # Decode the image using OpenCV\n",
        "    image = cv2.imdecode(file_bytes, 1)\n",
        "\n",
        "    # Convert the image from BGR to RGB for display\n",
        "    image_rgb = cv2.cvtColor(image, cv2.COLOR_BGR2RGB)\n",
        "\n",
        "    # Display the uploaded image\n",
        "    st.image(image_rgb, caption=\"Uploaded Image\", use_column_width=True)\n",
        "\n",
        "    # Save the image to a temporary file for DeepFace analysis\n",
        "    with tempfile.NamedTemporaryFile(delete=False, suffix=\".jpg\") as tmp_file:\n",
        "        tmp_file.write(file_bytes)\n",
        "        tmp_file_path = tmp_file.name\n",
        "\n",
        "    # Analyze the image using DeepFace\n",
        "    try:\n",
        "        # Perform gender and emotion analysis\n",
        "        result = DeepFace.analyze(img_path=tmp_file_path, actions=['gender', 'emotion'], enforce_detection=False)\n",
        "\n",
        "        # Display the results\n",
        "        st.subheader(\"Analysis Results:\")\n",
        "        st.write(f\"**Gender:** {result[0]['dominant_gender']}\")\n",
        "        st.write(f\"**Emotion:** {result[0]['dominant_emotion']}\")\n",
        "        st.write(f\"**Gender Confidence:** {result[0]['gender'][result[0]['dominant_gender']]:.2f}%\")\n",
        "        st.write(f\"**Emotion Confidence:** {result[0]['emotion'][result[0]['dominant_emotion']]:.2f}%\")\n",
        "\n",
        "    except Exception as e:\n",
        "        st.error(f\"Error during analysis: {e}\")\n",
        "\n",
        "    # Clean up the temporary file\n",
        "    os.unlink(tmp_file_path)"
      ]
    },
    {
      "cell_type": "code",
      "source": [],
      "metadata": {
        "id": "yfuyHXYdpZ3Z"
      },
      "execution_count": null,
      "outputs": []
    }
  ]
}